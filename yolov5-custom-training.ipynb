{
  "nbformat": 4,
  "nbformat_minor": 0,
  "metadata": {
    "colab": {
      "name": "YOLOv5-Custom-Training.ipynb",
      "provenance": [],
      "include_colab_link": true
    },
    "kernelspec": {
      "name": "python3",
      "display_name": "Python 3"
    },
    "language_info": {
      "name": "python"
    },
    "accelerator": "GPU"
  },
  "cells": [
    {
      "cell_type": "markdown",
      "metadata": {
        "id": "view-in-github",
        "colab_type": "text"
      },
      "source": [
        "<a href=\"https://colab.research.google.com/github/FreilisJDuarteP/CNC-Laser/blob/main/yolov5-custom-training.ipynb\" target=\"_parent\"><img src=\"https://colab.research.google.com/assets/colab-badge.svg\" alt=\"Open In Colab\"/></a>"
      ]
    },
    {
      "cell_type": "markdown",
      "metadata": {
        "id": "hrsaDfdVHzxt"
      },
      "source": [
        "# Custom Training with YOLOv5\n",
        "\n",
        "In this tutorial, we assemble a dataset and train a custom YOLOv5 model to recognize the objects in our dataset. To do so we will take the following steps:\n",
        "\n",
        "* Gather a dataset of images and label our dataset\n",
        "* Export our dataset to YOLOv5\n",
        "* Train YOLOv5 to recognize the objects in our dataset\n",
        "* Evaluate our YOLOv5 model's performance\n",
        "* Run test inference to view our model at work\n",
        "\n",
        "\n",
        "\n",
        "![](https://uploads-ssl.webflow.com/5f6bc60e665f54545a1e52a5/615627e5824c9c6195abfda9_computer-vision-cycle.png)"
      ]
    },
    {
      "cell_type": "markdown",
      "metadata": {
        "id": "yNveqeA1KXGy"
      },
      "source": [
        "# Step 1: Install Requirements"
      ]
    },
    {
      "cell_type": "code",
      "metadata": {
        "colab": {
          "base_uri": "https://localhost:8080/"
        },
        "id": "kTvDNSILZoN9",
        "outputId": "723fc0d8-76ad-43c1-f3c8-b517aa80dbdd"
      },
      "source": [
        "#clone YOLOv5 and \n",
        "!git clone https://github.com/ultralytics/yolov5  # clone repo\n",
        "%cd yolov5\n",
        "%pip install -qr requirements.txt # install dependencies\n",
        "%pip install -q roboflow\n",
        "\n",
        "import torch\n",
        "import os\n",
        "from IPython.display import Image, clear_output  # to display images\n",
        "\n",
        "print(f\"Setup complete. Using torch {torch.__version__} ({torch.cuda.get_device_properties(0).name if torch.cuda.is_available() else 'CPU'})\")"
      ],
      "execution_count": 2,
      "outputs": [
        {
          "output_type": "stream",
          "name": "stdout",
          "text": [
            "Cloning into 'yolov5'...\n",
            "remote: Enumerating objects: 15305, done.\u001b[K\n",
            "remote: Counting objects: 100% (5/5), done.\u001b[K\n",
            "remote: Compressing objects: 100% (5/5), done.\u001b[K\n",
            "remote: Total 15305 (delta 0), reused 1 (delta 0), pack-reused 15300\u001b[K\n",
            "Receiving objects: 100% (15305/15305), 14.13 MiB | 19.42 MiB/s, done.\n",
            "Resolving deltas: 100% (10497/10497), done.\n",
            "/content/yolov5/yolov5\n",
            "Setup complete. Using torch 1.13.1+cu116 (Tesla T4)\n"
          ]
        }
      ]
    },
    {
      "cell_type": "code",
      "source": [
        "!unzip -q /content/data.zip -d /content"
      ],
      "metadata": {
        "id": "GxN6EtxCF0fI"
      },
      "execution_count": 3,
      "outputs": []
    },
    {
      "cell_type": "markdown",
      "metadata": {
        "id": "zP6USLgz2f0r"
      },
      "source": [
        "# Step 2: Assemble Our Dataset\n",
        "\n",
        "In order to train our custom model, we need to assemble a dataset of representative images with bounding box annotations around the objects that we want to detect. And we need our dataset to be in YOLOv5 format.\n",
        "\n",
        "In Roboflow, you can choose between two paths:\n",
        "\n",
        "* Convert an existing dataset to YOLOv5 format. Roboflow supports over [30 formats object detection formats](https://roboflow.com/formats) for conversion.\n",
        "* Upload raw images and annotate them in Roboflow with [Roboflow Annotate](https://docs.roboflow.com/annotate).\n",
        "\n",
        "# Annotate\n",
        "\n",
        "![](https://roboflow-darknet.s3.us-east-2.amazonaws.com/roboflow-annotate.gif)\n",
        "\n",
        "# Version\n",
        "\n",
        "![](https://roboflow-darknet.s3.us-east-2.amazonaws.com/robolfow-preprocessing.png)\n"
      ]
    },
    {
      "cell_type": "code",
      "metadata": {
        "colab": {
          "base_uri": "https://localhost:8080/"
        },
        "id": "R2wGvjd4Z_92",
        "outputId": "9b100d09-654e-4c01-e77d-71d3ec4264c0"
      },
      "source": [
        "from roboflow import Roboflow\n",
        "rf = Roboflow(model_format=\"yolov5\", notebook=\"ultralytics\")"
      ],
      "execution_count": null,
      "outputs": [
        {
          "output_type": "stream",
          "name": "stdout",
          "text": [
            "upload and label your dataset, and get an API KEY here: https://app.roboflow.com/?model=yolov5&ref=ultralytics\n"
          ]
        }
      ]
    },
    {
      "cell_type": "code",
      "metadata": {
        "id": "2jjT5uIHo6l5"
      },
      "source": [
        "# set up environment\n",
        "os.environ[\"DATASET_DIRECTORY\"] = \"/content/datasets\""
      ],
      "execution_count": null,
      "outputs": []
    },
    {
      "cell_type": "code",
      "metadata": {
        "id": "FwJcaoPGF4VI",
        "colab": {
          "base_uri": "https://localhost:8080/"
        },
        "outputId": "4e22e5ac-6980-403e-a723-ba205596761c"
      },
      "source": [
        "#after following the link above, recieve python code with these fields filled in\n",
        "#from roboflow import Roboflow\n",
        "#rf = Roboflow(api_key=\"YOUR API KEY HERE\")\n",
        "#project = rf.workspace().project(\"YOUR PROJECT\")\n",
        "#dataset = project.version(\"YOUR VERSION\").download(\"yolov5\")"
      ],
      "execution_count": null,
      "outputs": [
        {
          "output_type": "stream",
          "name": "stdout",
          "text": [
            "Downloading Dataset Version Zip in /content/datasets/American-Mushrooms-1 to yolov5pytorch: 100% [3866359 / 3866359] bytes\n"
          ]
        },
        {
          "output_type": "stream",
          "name": "stderr",
          "text": [
            "Extracting Dataset Version Zip to /content/datasets/American-Mushrooms-1 in yolov5pytorch:: 100%|██████████| 278/278 [00:00<00:00, 1046.33it/s]\n"
          ]
        }
      ]
    },
    {
      "cell_type": "markdown",
      "metadata": {
        "id": "X7yAi9hd-T4B"
      },
      "source": [
        "# Step 3: Train Our Custom YOLOv5 model\n",
        "\n",
        "Here, we are able to pass a number of arguments:\n",
        "- **img:** define input image size\n",
        "- **batch:** determine batch size\n",
        "- **epochs:** define the number of training epochs. (Note: often, 3000+ are common here!)\n",
        "- **data:** Our dataset locaiton is saved in the `dataset.location`\n",
        "- **weights:** specify a path to weights to start transfer learning from. Here we choose the generic COCO pretrained checkpoint.\n",
        "- **cache:** cache images for faster training"
      ]
    },
    {
      "cell_type": "code",
      "metadata": {
        "colab": {
          "base_uri": "https://localhost:8080/"
        },
        "id": "eaFNnxLJbq4J",
        "outputId": "5895a117-19ca-417d-cf0a-4684569bba89"
      },
      "source": [
        "!python train.py --img 640 --batch 4 --epochs 100 --data /content/yolov5/data/custom.yaml --weights yolov5x.pt --cache"
      ],
      "execution_count": 4,
      "outputs": [
        {
          "output_type": "stream",
          "name": "stdout",
          "text": [
            "\u001b[34m\u001b[1mtrain: \u001b[0mweights=yolov5x.pt, cfg=, data=/content/yolov5/data/custom.yaml, hyp=data/hyps/hyp.scratch-low.yaml, epochs=100, batch_size=4, imgsz=640, rect=False, resume=False, nosave=False, noval=False, noautoanchor=False, noplots=False, evolve=None, bucket=, cache=ram, image_weights=False, device=, multi_scale=False, single_cls=False, optimizer=SGD, sync_bn=False, workers=8, project=runs/train, name=exp, exist_ok=False, quad=False, cos_lr=False, label_smoothing=0.0, patience=100, freeze=[0], save_period=-1, seed=0, local_rank=-1, entity=None, upload_dataset=False, bbox_interval=-1, artifact_alias=latest\n",
            "\u001b[34m\u001b[1mgithub: \u001b[0mup to date with https://github.com/ultralytics/yolov5 ✅\n",
            "YOLOv5 🚀 v7.0-120-g3e55763 Python-3.9.16 torch-1.13.1+cu116 CUDA:0 (Tesla T4, 15102MiB)\n",
            "\n",
            "\u001b[34m\u001b[1mhyperparameters: \u001b[0mlr0=0.01, lrf=0.01, momentum=0.937, weight_decay=0.0005, warmup_epochs=3.0, warmup_momentum=0.8, warmup_bias_lr=0.1, box=0.05, cls=0.5, cls_pw=1.0, obj=1.0, obj_pw=1.0, iou_t=0.2, anchor_t=4.0, fl_gamma=0.0, hsv_h=0.015, hsv_s=0.7, hsv_v=0.4, degrees=0.0, translate=0.1, scale=0.5, shear=0.0, perspective=0.0, flipud=0.0, fliplr=0.5, mosaic=1.0, mixup=0.0, copy_paste=0.0\n",
            "\u001b[34m\u001b[1mClearML: \u001b[0mrun 'pip install clearml' to automatically track, visualize and remotely train YOLOv5 🚀 in ClearML\n",
            "\u001b[34m\u001b[1mComet: \u001b[0mrun 'pip install comet_ml' to automatically track and visualize YOLOv5 🚀 runs in Comet\n",
            "\u001b[34m\u001b[1mTensorBoard: \u001b[0mStart with 'tensorboard --logdir runs/train', view at http://localhost:6006/\n",
            "2023-03-13 22:35:56.451661: I tensorflow/core/platform/cpu_feature_guard.cc:193] This TensorFlow binary is optimized with oneAPI Deep Neural Network Library (oneDNN) to use the following CPU instructions in performance-critical operations:  AVX2 FMA\n",
            "To enable them in other operations, rebuild TensorFlow with the appropriate compiler flags.\n",
            "2023-03-13 22:35:57.374712: W tensorflow/compiler/xla/stream_executor/platform/default/dso_loader.cc:64] Could not load dynamic library 'libnvinfer.so.7'; dlerror: libnvinfer.so.7: cannot open shared object file: No such file or directory; LD_LIBRARY_PATH: /usr/local/lib/python3.9/dist-packages/cv2/../../lib64:/usr/lib64-nvidia\n",
            "2023-03-13 22:35:57.374870: W tensorflow/compiler/xla/stream_executor/platform/default/dso_loader.cc:64] Could not load dynamic library 'libnvinfer_plugin.so.7'; dlerror: libnvinfer_plugin.so.7: cannot open shared object file: No such file or directory; LD_LIBRARY_PATH: /usr/local/lib/python3.9/dist-packages/cv2/../../lib64:/usr/lib64-nvidia\n",
            "2023-03-13 22:35:57.374890: W tensorflow/compiler/tf2tensorrt/utils/py_utils.cc:38] TF-TRT Warning: Cannot dlopen some TensorRT libraries. If you would like to use Nvidia GPU with TensorRT, please make sure the missing libraries mentioned above are installed properly.\n",
            "Downloading https://ultralytics.com/assets/Arial.ttf to /root/.config/Ultralytics/Arial.ttf...\n",
            "100% 755k/755k [00:00<00:00, 22.2MB/s]\n",
            "Downloading https://github.com/ultralytics/yolov5/releases/download/v7.0/yolov5x.pt to yolov5x.pt...\n",
            "100% 166M/166M [00:18<00:00, 9.40MB/s]\n",
            "\n",
            "Overriding model.yaml nc=80 with nc=1\n",
            "\n",
            "                 from  n    params  module                                  arguments                     \n",
            "  0                -1  1      8800  models.common.Conv                      [3, 80, 6, 2, 2]              \n",
            "  1                -1  1    115520  models.common.Conv                      [80, 160, 3, 2]               \n",
            "  2                -1  4    309120  models.common.C3                        [160, 160, 4]                 \n",
            "  3                -1  1    461440  models.common.Conv                      [160, 320, 3, 2]              \n",
            "  4                -1  8   2259200  models.common.C3                        [320, 320, 8]                 \n",
            "  5                -1  1   1844480  models.common.Conv                      [320, 640, 3, 2]              \n",
            "  6                -1 12  13125120  models.common.C3                        [640, 640, 12]                \n",
            "  7                -1  1   7375360  models.common.Conv                      [640, 1280, 3, 2]             \n",
            "  8                -1  4  19676160  models.common.C3                        [1280, 1280, 4]               \n",
            "  9                -1  1   4099840  models.common.SPPF                      [1280, 1280, 5]               \n",
            " 10                -1  1    820480  models.common.Conv                      [1280, 640, 1, 1]             \n",
            " 11                -1  1         0  torch.nn.modules.upsampling.Upsample    [None, 2, 'nearest']          \n",
            " 12           [-1, 6]  1         0  models.common.Concat                    [1]                           \n",
            " 13                -1  4   5332480  models.common.C3                        [1280, 640, 4, False]         \n",
            " 14                -1  1    205440  models.common.Conv                      [640, 320, 1, 1]              \n",
            " 15                -1  1         0  torch.nn.modules.upsampling.Upsample    [None, 2, 'nearest']          \n",
            " 16           [-1, 4]  1         0  models.common.Concat                    [1]                           \n",
            " 17                -1  4   1335040  models.common.C3                        [640, 320, 4, False]          \n",
            " 18                -1  1    922240  models.common.Conv                      [320, 320, 3, 2]              \n",
            " 19          [-1, 14]  1         0  models.common.Concat                    [1]                           \n",
            " 20                -1  4   4922880  models.common.C3                        [640, 640, 4, False]          \n",
            " 21                -1  1   3687680  models.common.Conv                      [640, 640, 3, 2]              \n",
            " 22          [-1, 10]  1         0  models.common.Concat                    [1]                           \n",
            " 23                -1  4  19676160  models.common.C3                        [1280, 1280, 4, False]        \n",
            " 24      [17, 20, 23]  1     40374  models.yolo.Detect                      [1, [[10, 13, 16, 30, 33, 23], [30, 61, 62, 45, 59, 119], [116, 90, 156, 198, 373, 326]], [320, 640, 1280]]\n",
            "Model summary: 445 layers, 86217814 parameters, 86217814 gradients, 204.6 GFLOPs\n",
            "\n",
            "Transferred 739/745 items from yolov5x.pt\n",
            "\u001b[34m\u001b[1mAMP: \u001b[0mchecks passed ✅\n",
            "\u001b[34m\u001b[1moptimizer:\u001b[0m SGD(lr=0.01) with parameter groups 123 weight(decay=0.0), 126 weight(decay=0.0005), 126 bias\n",
            "\u001b[34m\u001b[1malbumentations: \u001b[0mBlur(p=0.01, blur_limit=(3, 7)), MedianBlur(p=0.01, blur_limit=(3, 7)), ToGray(p=0.01), CLAHE(p=0.01, clip_limit=(1, 4.0), tile_grid_size=(8, 8))\n",
            "\u001b[34m\u001b[1mtrain: \u001b[0mScanning /content/data/train/labels... 1269 images, 4 backgrounds, 0 corrupt: 100% 1269/1269 [00:00<00:00, 1988.15it/s]\n",
            "\u001b[34m\u001b[1mtrain: \u001b[0mNew cache created: /content/data/train/labels.cache\n",
            "\u001b[34m\u001b[1mtrain: \u001b[0mCaching images (1.5GB ram): 100% 1269/1269 [00:06<00:00, 196.31it/s]\n",
            "\u001b[34m\u001b[1mval: \u001b[0mScanning /content/data/valid/labels... 362 images, 0 backgrounds, 0 corrupt: 100% 362/362 [00:00<00:00, 1081.68it/s]\n",
            "\u001b[34m\u001b[1mval: \u001b[0mNew cache created: /content/data/valid/labels.cache\n",
            "\u001b[34m\u001b[1mval: \u001b[0mCaching images (0.4GB ram): 100% 362/362 [00:01<00:00, 226.76it/s]\n",
            "\n",
            "\u001b[34m\u001b[1mAutoAnchor: \u001b[0m5.55 anchors/target, 1.000 Best Possible Recall (BPR). Current anchors are a good fit to dataset ✅\n",
            "Plotting labels to runs/train/exp/labels.jpg... \n",
            "Image sizes 640 train, 640 val\n",
            "Using 2 dataloader workers\n",
            "Logging results to \u001b[1mruns/train/exp\u001b[0m\n",
            "Starting training for 100 epochs...\n",
            "\n",
            "      Epoch    GPU_mem   box_loss   obj_loss   cls_loss  Instances       Size\n",
            "       0/99      4.69G    0.07012    0.02373          0          4        640: 100% 318/318 [01:45<00:00,  3.03it/s]\n",
            "                 Class     Images  Instances          P          R      mAP50   mAP50-95: 100% 46/46 [00:12<00:00,  3.69it/s]\n",
            "                   all        362        371      0.756      0.836      0.822      0.295\n",
            "\n",
            "      Epoch    GPU_mem   box_loss   obj_loss   cls_loss  Instances       Size\n",
            "       1/99       5.2G    0.05446    0.01343          0          1        640: 100% 318/318 [01:37<00:00,  3.28it/s]\n",
            "                 Class     Images  Instances          P          R      mAP50   mAP50-95: 100% 46/46 [00:10<00:00,  4.24it/s]\n",
            "                   all        362        371        0.8      0.871      0.875      0.356\n",
            "\n",
            "      Epoch    GPU_mem   box_loss   obj_loss   cls_loss  Instances       Size\n",
            "       2/99       5.2G    0.05328    0.01114          0          3        640: 100% 318/318 [01:37<00:00,  3.25it/s]\n",
            "                 Class     Images  Instances          P          R      mAP50   mAP50-95: 100% 46/46 [00:10<00:00,  4.43it/s]\n",
            "                   all        362        371      0.847      0.906      0.912      0.435\n",
            "\n",
            "      Epoch    GPU_mem   box_loss   obj_loss   cls_loss  Instances       Size\n",
            "       3/99       5.2G    0.04892   0.009277          0          3        640: 100% 318/318 [01:38<00:00,  3.22it/s]\n",
            "                 Class     Images  Instances          P          R      mAP50   mAP50-95: 100% 46/46 [00:10<00:00,  4.36it/s]\n",
            "                   all        362        371      0.803      0.868      0.826      0.338\n",
            "\n",
            "      Epoch    GPU_mem   box_loss   obj_loss   cls_loss  Instances       Size\n",
            "       4/99       5.2G    0.04551    0.00917          0          4        640: 100% 318/318 [01:38<00:00,  3.23it/s]\n",
            "                 Class     Images  Instances          P          R      mAP50   mAP50-95: 100% 46/46 [00:10<00:00,  4.33it/s]\n",
            "                   all        362        371      0.909      0.919      0.913      0.403\n",
            "\n",
            "      Epoch    GPU_mem   box_loss   obj_loss   cls_loss  Instances       Size\n",
            "       5/99       5.2G    0.04329   0.008713          0          1        640: 100% 318/318 [01:38<00:00,  3.22it/s]\n",
            "                 Class     Images  Instances          P          R      mAP50   mAP50-95: 100% 46/46 [00:10<00:00,  4.34it/s]\n",
            "                   all        362        371      0.969      0.946      0.962      0.479\n",
            "\n",
            "      Epoch    GPU_mem   box_loss   obj_loss   cls_loss  Instances       Size\n",
            "       6/99       5.2G    0.04052   0.008247          0          4        640: 100% 318/318 [01:39<00:00,  3.21it/s]\n",
            "                 Class     Images  Instances          P          R      mAP50   mAP50-95: 100% 46/46 [00:10<00:00,  4.34it/s]\n",
            "                   all        362        371      0.917      0.938      0.951      0.455\n",
            "\n",
            "      Epoch    GPU_mem   box_loss   obj_loss   cls_loss  Instances       Size\n",
            "       7/99       5.2G    0.04061   0.008188          0          1        640: 100% 318/318 [01:38<00:00,  3.24it/s]\n",
            "                 Class     Images  Instances          P          R      mAP50   mAP50-95: 100% 46/46 [00:10<00:00,  4.36it/s]\n",
            "                   all        362        371       0.97      0.951      0.982      0.473\n",
            "\n",
            "      Epoch    GPU_mem   box_loss   obj_loss   cls_loss  Instances       Size\n",
            "       8/99       5.2G    0.03885   0.008169          0          2        640: 100% 318/318 [01:38<00:00,  3.21it/s]\n",
            "                 Class     Images  Instances          P          R      mAP50   mAP50-95: 100% 46/46 [00:10<00:00,  4.40it/s]\n",
            "                   all        362        371      0.953      0.954      0.962      0.494\n",
            "\n",
            "      Epoch    GPU_mem   box_loss   obj_loss   cls_loss  Instances       Size\n",
            "       9/99       5.2G    0.03827   0.008188          0          2        640: 100% 318/318 [01:38<00:00,  3.24it/s]\n",
            "                 Class     Images  Instances          P          R      mAP50   mAP50-95: 100% 46/46 [00:10<00:00,  4.26it/s]\n",
            "                   all        362        371      0.965      0.965       0.98      0.489\n",
            "\n",
            "      Epoch    GPU_mem   box_loss   obj_loss   cls_loss  Instances       Size\n",
            "      10/99       5.2G    0.03693   0.008269          0          2        640: 100% 318/318 [01:38<00:00,  3.22it/s]\n",
            "                 Class     Images  Instances          P          R      mAP50   mAP50-95: 100% 46/46 [00:10<00:00,  4.45it/s]\n",
            "                   all        362        371      0.956      0.973      0.972      0.532\n",
            "\n",
            "      Epoch    GPU_mem   box_loss   obj_loss   cls_loss  Instances       Size\n",
            "      11/99       5.2G    0.03601   0.007963          0          1        640: 100% 318/318 [01:38<00:00,  3.23it/s]\n",
            "                 Class     Images  Instances          P          R      mAP50   mAP50-95: 100% 46/46 [00:10<00:00,  4.31it/s]\n",
            "                   all        362        371       0.97      0.972      0.974      0.507\n",
            "\n",
            "      Epoch    GPU_mem   box_loss   obj_loss   cls_loss  Instances       Size\n",
            "      12/99       5.2G    0.03584   0.007753          0          4        640: 100% 318/318 [01:39<00:00,  3.21it/s]\n",
            "                 Class     Images  Instances          P          R      mAP50   mAP50-95: 100% 46/46 [00:10<00:00,  4.43it/s]\n",
            "                   all        362        371      0.967      0.957      0.964      0.508\n",
            "\n",
            "      Epoch    GPU_mem   box_loss   obj_loss   cls_loss  Instances       Size\n",
            "      13/99       5.2G     0.0351   0.007973          0          2        640: 100% 318/318 [01:39<00:00,  3.20it/s]\n",
            "                 Class     Images  Instances          P          R      mAP50   mAP50-95: 100% 46/46 [00:10<00:00,  4.37it/s]\n",
            "                   all        362        371      0.943      0.936      0.952      0.518\n",
            "\n",
            "      Epoch    GPU_mem   box_loss   obj_loss   cls_loss  Instances       Size\n",
            "      14/99       5.2G    0.03469   0.007757          0          2        640: 100% 318/318 [01:38<00:00,  3.23it/s]\n",
            "                 Class     Images  Instances          P          R      mAP50   mAP50-95: 100% 46/46 [00:10<00:00,  4.25it/s]\n",
            "                   all        362        371       0.97      0.969      0.969      0.516\n",
            "\n",
            "      Epoch    GPU_mem   box_loss   obj_loss   cls_loss  Instances       Size\n",
            "      15/99       5.2G    0.03391   0.007917          0          2        640: 100% 318/318 [01:38<00:00,  3.22it/s]\n",
            "                 Class     Images  Instances          P          R      mAP50   mAP50-95: 100% 46/46 [00:10<00:00,  4.36it/s]\n",
            "                   all        362        371      0.952      0.952      0.957       0.52\n",
            "\n",
            "      Epoch    GPU_mem   box_loss   obj_loss   cls_loss  Instances       Size\n",
            "      16/99       5.2G    0.03365   0.007744          0          4        640: 100% 318/318 [01:39<00:00,  3.21it/s]\n",
            "                 Class     Images  Instances          P          R      mAP50   mAP50-95: 100% 46/46 [00:10<00:00,  4.35it/s]\n",
            "                   all        362        371      0.959       0.97      0.974      0.557\n",
            "\n",
            "      Epoch    GPU_mem   box_loss   obj_loss   cls_loss  Instances       Size\n",
            "      17/99       5.2G    0.03352    0.00768          0          1        640: 100% 318/318 [01:39<00:00,  3.20it/s]\n",
            "                 Class     Images  Instances          P          R      mAP50   mAP50-95: 100% 46/46 [00:10<00:00,  4.44it/s]\n",
            "                   all        362        371      0.968      0.976      0.981      0.563\n",
            "\n",
            "      Epoch    GPU_mem   box_loss   obj_loss   cls_loss  Instances       Size\n",
            "      18/99       5.2G    0.03258   0.007342          0          1        640: 100% 318/318 [01:37<00:00,  3.25it/s]\n",
            "                 Class     Images  Instances          P          R      mAP50   mAP50-95: 100% 46/46 [00:10<00:00,  4.32it/s]\n",
            "                   all        362        371       0.97      0.967       0.98      0.543\n",
            "\n",
            "      Epoch    GPU_mem   box_loss   obj_loss   cls_loss  Instances       Size\n",
            "      19/99       5.2G     0.0328   0.007773          0          4        640: 100% 318/318 [01:38<00:00,  3.21it/s]\n",
            "                 Class     Images  Instances          P          R      mAP50   mAP50-95: 100% 46/46 [00:10<00:00,  4.38it/s]\n",
            "                   all        362        371      0.957       0.96      0.965      0.508\n",
            "\n",
            "      Epoch    GPU_mem   box_loss   obj_loss   cls_loss  Instances       Size\n",
            "      20/99       5.2G    0.03222   0.007641          0          1        640: 100% 318/318 [01:37<00:00,  3.25it/s]\n",
            "                 Class     Images  Instances          P          R      mAP50   mAP50-95: 100% 46/46 [00:10<00:00,  4.38it/s]\n",
            "                   all        362        371      0.978      0.975      0.981      0.558\n",
            "\n",
            "      Epoch    GPU_mem   box_loss   obj_loss   cls_loss  Instances       Size\n",
            "      21/99       5.2G    0.03162   0.007428          0          0        640: 100% 318/318 [01:38<00:00,  3.22it/s]\n",
            "                 Class     Images  Instances          P          R      mAP50   mAP50-95: 100% 46/46 [00:10<00:00,  4.46it/s]\n",
            "                   all        362        371      0.978      0.972      0.973      0.527\n",
            "\n",
            "      Epoch    GPU_mem   box_loss   obj_loss   cls_loss  Instances       Size\n",
            "      22/99       5.2G    0.03237   0.007689          0          2        640: 100% 318/318 [01:38<00:00,  3.24it/s]\n",
            "                 Class     Images  Instances          P          R      mAP50   mAP50-95: 100% 46/46 [00:10<00:00,  4.36it/s]\n",
            "                   all        362        371      0.984      0.978      0.981      0.562\n",
            "\n",
            "      Epoch    GPU_mem   box_loss   obj_loss   cls_loss  Instances       Size\n",
            "      23/99       5.2G    0.03115   0.007673          0          1        640: 100% 318/318 [01:38<00:00,  3.23it/s]\n",
            "                 Class     Images  Instances          P          R      mAP50   mAP50-95: 100% 46/46 [00:10<00:00,  4.33it/s]\n",
            "                   all        362        371      0.981      0.981      0.981      0.556\n",
            "\n",
            "      Epoch    GPU_mem   box_loss   obj_loss   cls_loss  Instances       Size\n",
            "      24/99       5.2G    0.03081   0.007461          0          1        640: 100% 318/318 [01:38<00:00,  3.22it/s]\n",
            "                 Class     Images  Instances          P          R      mAP50   mAP50-95: 100% 46/46 [00:10<00:00,  4.40it/s]\n",
            "                   all        362        371      0.984      0.987      0.989      0.529\n",
            "\n",
            "      Epoch    GPU_mem   box_loss   obj_loss   cls_loss  Instances       Size\n",
            "      25/99       5.2G      0.031   0.007151          0          1        640: 100% 318/318 [01:37<00:00,  3.25it/s]\n",
            "                 Class     Images  Instances          P          R      mAP50   mAP50-95: 100% 46/46 [00:10<00:00,  4.39it/s]\n",
            "                   all        362        371      0.981      0.978      0.981      0.547\n",
            "\n",
            "      Epoch    GPU_mem   box_loss   obj_loss   cls_loss  Instances       Size\n",
            "      26/99       5.2G    0.02993   0.007183          0          1        640: 100% 318/318 [01:38<00:00,  3.22it/s]\n",
            "                 Class     Images  Instances          P          R      mAP50   mAP50-95: 100% 46/46 [00:10<00:00,  4.32it/s]\n",
            "                   all        362        371      0.984      0.984      0.983      0.556\n",
            "\n",
            "      Epoch    GPU_mem   box_loss   obj_loss   cls_loss  Instances       Size\n",
            "      27/99       5.2G    0.02966   0.007348          0          1        640: 100% 318/318 [01:37<00:00,  3.25it/s]\n",
            "                 Class     Images  Instances          P          R      mAP50   mAP50-95: 100% 46/46 [00:10<00:00,  4.41it/s]\n",
            "                   all        362        371      0.971      0.981      0.981      0.554\n",
            "\n",
            "      Epoch    GPU_mem   box_loss   obj_loss   cls_loss  Instances       Size\n",
            "      28/99       5.2G    0.03016    0.00734          0          1        640: 100% 318/318 [01:38<00:00,  3.22it/s]\n",
            "                 Class     Images  Instances          P          R      mAP50   mAP50-95: 100% 46/46 [00:10<00:00,  4.39it/s]\n",
            "                   all        362        371      0.978      0.978      0.979      0.568\n",
            "\n",
            "      Epoch    GPU_mem   box_loss   obj_loss   cls_loss  Instances       Size\n",
            "      29/99       5.2G    0.02967   0.006855          0          2        640: 100% 318/318 [01:38<00:00,  3.24it/s]\n",
            "                 Class     Images  Instances          P          R      mAP50   mAP50-95: 100% 46/46 [00:10<00:00,  4.38it/s]\n",
            "                   all        362        371      0.986      0.979       0.99      0.569\n",
            "\n",
            "      Epoch    GPU_mem   box_loss   obj_loss   cls_loss  Instances       Size\n",
            "      30/99       5.2G    0.02912   0.007003          0          1        640: 100% 318/318 [01:37<00:00,  3.25it/s]\n",
            "                 Class     Images  Instances          P          R      mAP50   mAP50-95: 100% 46/46 [00:10<00:00,  4.37it/s]\n",
            "                   all        362        371      0.967      0.962       0.97      0.529\n",
            "\n",
            "      Epoch    GPU_mem   box_loss   obj_loss   cls_loss  Instances       Size\n",
            "      31/99       5.2G     0.0293   0.007094          0          0        640: 100% 318/318 [01:38<00:00,  3.23it/s]\n",
            "                 Class     Images  Instances          P          R      mAP50   mAP50-95: 100% 46/46 [00:10<00:00,  4.37it/s]\n",
            "                   all        362        371      0.984      0.983      0.982      0.568\n",
            "\n",
            "      Epoch    GPU_mem   box_loss   obj_loss   cls_loss  Instances       Size\n",
            "      32/99       5.2G     0.0279   0.006832          0          0        640: 100% 318/318 [01:38<00:00,  3.23it/s]\n",
            "                 Class     Images  Instances          P          R      mAP50   mAP50-95: 100% 46/46 [00:10<00:00,  4.38it/s]\n",
            "                   all        362        371      0.988      0.992      0.994      0.582\n",
            "\n",
            "      Epoch    GPU_mem   box_loss   obj_loss   cls_loss  Instances       Size\n",
            "      33/99       5.2G    0.02824   0.006909          0          1        640: 100% 318/318 [01:37<00:00,  3.25it/s]\n",
            "                 Class     Images  Instances          P          R      mAP50   mAP50-95: 100% 46/46 [00:10<00:00,  4.29it/s]\n",
            "                   all        362        371      0.986      0.975      0.987      0.567\n",
            "\n",
            "      Epoch    GPU_mem   box_loss   obj_loss   cls_loss  Instances       Size\n",
            "      34/99       5.2G    0.02799   0.006832          0          1        640: 100% 318/318 [01:37<00:00,  3.25it/s]\n",
            "                 Class     Images  Instances          P          R      mAP50   mAP50-95: 100% 46/46 [00:10<00:00,  4.38it/s]\n",
            "                   all        362        371      0.981       0.98      0.985      0.576\n",
            "\n",
            "      Epoch    GPU_mem   box_loss   obj_loss   cls_loss  Instances       Size\n",
            "      35/99       5.2G    0.02781   0.007158          0          1        640: 100% 318/318 [01:38<00:00,  3.23it/s]\n",
            "                 Class     Images  Instances          P          R      mAP50   mAP50-95: 100% 46/46 [00:10<00:00,  4.42it/s]\n",
            "                   all        362        371      0.982      0.987      0.988      0.591\n",
            "\n",
            "      Epoch    GPU_mem   box_loss   obj_loss   cls_loss  Instances       Size\n",
            "      36/99       5.2G      0.027   0.006761          0          4        640: 100% 318/318 [01:38<00:00,  3.24it/s]\n",
            "                 Class     Images  Instances          P          R      mAP50   mAP50-95: 100% 46/46 [00:10<00:00,  4.31it/s]\n",
            "                   all        362        371       0.98      0.976      0.978      0.571\n",
            "\n",
            "      Epoch    GPU_mem   box_loss   obj_loss   cls_loss  Instances       Size\n",
            "      37/99       5.2G    0.02746   0.006833          0          3        640: 100% 318/318 [01:37<00:00,  3.25it/s]\n",
            "                 Class     Images  Instances          P          R      mAP50   mAP50-95: 100% 46/46 [00:10<00:00,  4.37it/s]\n",
            "                   all        362        371      0.988      0.995      0.994      0.582\n",
            "\n",
            "      Epoch    GPU_mem   box_loss   obj_loss   cls_loss  Instances       Size\n",
            "      38/99       5.2G    0.02739   0.006971          0          1        640: 100% 318/318 [01:39<00:00,  3.20it/s]\n",
            "                 Class     Images  Instances          P          R      mAP50   mAP50-95: 100% 46/46 [00:10<00:00,  4.38it/s]\n",
            "                   all        362        371      0.981      0.986      0.987      0.585\n",
            "\n",
            "      Epoch    GPU_mem   box_loss   obj_loss   cls_loss  Instances       Size\n",
            "      39/99       5.2G    0.02702   0.006775          0          1        640: 100% 318/318 [01:38<00:00,  3.23it/s]\n",
            "                 Class     Images  Instances          P          R      mAP50   mAP50-95: 100% 46/46 [00:10<00:00,  4.33it/s]\n",
            "                   all        362        371       0.98      0.973      0.985      0.568\n",
            "\n",
            "      Epoch    GPU_mem   box_loss   obj_loss   cls_loss  Instances       Size\n",
            "      40/99       5.2G    0.02732   0.006957          0          1        640: 100% 318/318 [01:38<00:00,  3.22it/s]\n",
            "                 Class     Images  Instances          P          R      mAP50   mAP50-95: 100% 46/46 [00:10<00:00,  4.40it/s]\n",
            "                   all        362        371      0.988      0.989      0.991      0.587\n",
            "\n",
            "      Epoch    GPU_mem   box_loss   obj_loss   cls_loss  Instances       Size\n",
            "      41/99       5.2G    0.02596   0.006763          0          1        640: 100% 318/318 [01:38<00:00,  3.23it/s]\n",
            "                 Class     Images  Instances          P          R      mAP50   mAP50-95: 100% 46/46 [00:10<00:00,  4.39it/s]\n",
            "                   all        362        371      0.986      0.981      0.984      0.584\n",
            "\n",
            "      Epoch    GPU_mem   box_loss   obj_loss   cls_loss  Instances       Size\n",
            "      42/99       5.2G    0.02592   0.006803          0          2        640: 100% 318/318 [01:38<00:00,  3.23it/s]\n",
            "                 Class     Images  Instances          P          R      mAP50   mAP50-95: 100% 46/46 [00:10<00:00,  4.26it/s]\n",
            "                   all        362        371       0.98      0.978      0.987      0.585\n",
            "\n",
            "      Epoch    GPU_mem   box_loss   obj_loss   cls_loss  Instances       Size\n",
            "      43/99       5.2G    0.02602   0.006715          0          3        640: 100% 318/318 [01:38<00:00,  3.22it/s]\n",
            "                 Class     Images  Instances          P          R      mAP50   mAP50-95: 100% 46/46 [00:10<00:00,  4.37it/s]\n",
            "                   all        362        371      0.981      0.987      0.991      0.582\n",
            "\n",
            "      Epoch    GPU_mem   box_loss   obj_loss   cls_loss  Instances       Size\n",
            "      44/99       5.2G    0.02589   0.006799          0          4        640: 100% 318/318 [01:39<00:00,  3.20it/s]\n",
            "                 Class     Images  Instances          P          R      mAP50   mAP50-95: 100% 46/46 [00:10<00:00,  4.38it/s]\n",
            "                   all        362        371      0.981      0.984      0.984      0.587\n",
            "\n",
            "      Epoch    GPU_mem   box_loss   obj_loss   cls_loss  Instances       Size\n",
            "      45/99       5.2G    0.02501   0.006625          0          2        640: 100% 318/318 [01:38<00:00,  3.22it/s]\n",
            "                 Class     Images  Instances          P          R      mAP50   mAP50-95: 100% 46/46 [00:10<00:00,  4.19it/s]\n",
            "                   all        362        371      0.984      0.989      0.989      0.597\n",
            "\n",
            "      Epoch    GPU_mem   box_loss   obj_loss   cls_loss  Instances       Size\n",
            "      46/99       5.2G    0.02556   0.006768          0          3        640: 100% 318/318 [01:38<00:00,  3.23it/s]\n",
            "                 Class     Images  Instances          P          R      mAP50   mAP50-95: 100% 46/46 [00:10<00:00,  4.47it/s]\n",
            "                   all        362        371      0.981      0.983      0.989      0.576\n",
            "\n",
            "      Epoch    GPU_mem   box_loss   obj_loss   cls_loss  Instances       Size\n",
            "      47/99       5.2G    0.02505   0.006782          0          2        640: 100% 318/318 [01:38<00:00,  3.22it/s]\n",
            "                 Class     Images  Instances          P          R      mAP50   mAP50-95: 100% 46/46 [00:10<00:00,  4.37it/s]\n",
            "                   all        362        371      0.983      0.984      0.987       0.59\n",
            "\n",
            "      Epoch    GPU_mem   box_loss   obj_loss   cls_loss  Instances       Size\n",
            "      48/99       5.2G    0.02414   0.006554          0          1        640: 100% 318/318 [01:38<00:00,  3.24it/s]\n",
            "                 Class     Images  Instances          P          R      mAP50   mAP50-95: 100% 46/46 [00:10<00:00,  4.27it/s]\n",
            "                   all        362        371      0.987      0.989      0.987       0.59\n",
            "\n",
            "      Epoch    GPU_mem   box_loss   obj_loss   cls_loss  Instances       Size\n",
            "      49/99       5.2G    0.02452   0.006429          0          0        640: 100% 318/318 [01:38<00:00,  3.23it/s]\n",
            "                 Class     Images  Instances          P          R      mAP50   mAP50-95: 100% 46/46 [00:10<00:00,  4.39it/s]\n",
            "                   all        362        371      0.983      0.984      0.989      0.602\n",
            "\n",
            "      Epoch    GPU_mem   box_loss   obj_loss   cls_loss  Instances       Size\n",
            "      50/99       5.2G    0.02424   0.006465          0          3        640: 100% 318/318 [01:39<00:00,  3.20it/s]\n",
            "                 Class     Images  Instances          P          R      mAP50   mAP50-95: 100% 46/46 [00:10<00:00,  4.40it/s]\n",
            "                   all        362        371      0.989      0.989      0.992      0.595\n",
            "\n",
            "      Epoch    GPU_mem   box_loss   obj_loss   cls_loss  Instances       Size\n",
            "      51/99       5.2G    0.02383   0.006359          0          4        640: 100% 318/318 [01:38<00:00,  3.23it/s]\n",
            "                 Class     Images  Instances          P          R      mAP50   mAP50-95: 100% 46/46 [00:10<00:00,  4.25it/s]\n",
            "                   all        362        371      0.986      0.984      0.987      0.593\n",
            "\n",
            "      Epoch    GPU_mem   box_loss   obj_loss   cls_loss  Instances       Size\n",
            "      52/99       5.2G    0.02415    0.00643          0          1        640: 100% 318/318 [01:38<00:00,  3.23it/s]\n",
            "                 Class     Images  Instances          P          R      mAP50   mAP50-95: 100% 46/46 [00:10<00:00,  4.42it/s]\n",
            "                   all        362        371      0.988      0.992      0.993       0.58\n",
            "\n",
            "      Epoch    GPU_mem   box_loss   obj_loss   cls_loss  Instances       Size\n",
            "      53/99       5.2G    0.02351   0.006226          0          2        640: 100% 318/318 [01:38<00:00,  3.22it/s]\n",
            "                 Class     Images  Instances          P          R      mAP50   mAP50-95: 100% 46/46 [00:10<00:00,  4.37it/s]\n",
            "                   all        362        371      0.986      0.989      0.993      0.584\n",
            "\n",
            "      Epoch    GPU_mem   box_loss   obj_loss   cls_loss  Instances       Size\n",
            "      54/99       5.2G    0.02375   0.006366          0          1        640: 100% 318/318 [01:38<00:00,  3.24it/s]\n",
            "                 Class     Images  Instances          P          R      mAP50   mAP50-95: 100% 46/46 [00:10<00:00,  4.38it/s]\n",
            "                   all        362        371      0.988      0.989      0.992      0.602\n",
            "\n",
            "      Epoch    GPU_mem   box_loss   obj_loss   cls_loss  Instances       Size\n",
            "      55/99       5.2G    0.02232   0.006056          0          1        640: 100% 318/318 [01:38<00:00,  3.23it/s]\n",
            "                 Class     Images  Instances          P          R      mAP50   mAP50-95: 100% 46/46 [00:10<00:00,  4.38it/s]\n",
            "                   all        362        371      0.991      0.989      0.992      0.599\n",
            "\n",
            "      Epoch    GPU_mem   box_loss   obj_loss   cls_loss  Instances       Size\n",
            "      56/99       5.2G    0.02265   0.006221          0          2        640: 100% 318/318 [01:38<00:00,  3.22it/s]\n",
            "                 Class     Images  Instances          P          R      mAP50   mAP50-95: 100% 46/46 [00:10<00:00,  4.33it/s]\n",
            "                   all        362        371      0.991      0.992      0.994      0.591\n",
            "\n",
            "      Epoch    GPU_mem   box_loss   obj_loss   cls_loss  Instances       Size\n",
            "      57/99       5.2G    0.02315   0.006027          0          1        640: 100% 318/318 [01:38<00:00,  3.23it/s]\n",
            "                 Class     Images  Instances          P          R      mAP50   mAP50-95: 100% 46/46 [00:10<00:00,  4.39it/s]\n",
            "                   all        362        371      0.991      0.992      0.993      0.596\n",
            "\n",
            "      Epoch    GPU_mem   box_loss   obj_loss   cls_loss  Instances       Size\n",
            "      58/99       5.2G    0.02216   0.006129          0          1        640: 100% 318/318 [01:38<00:00,  3.22it/s]\n",
            "                 Class     Images  Instances          P          R      mAP50   mAP50-95: 100% 46/46 [00:10<00:00,  4.36it/s]\n",
            "                   all        362        371      0.988      0.989      0.993      0.601\n",
            "\n",
            "      Epoch    GPU_mem   box_loss   obj_loss   cls_loss  Instances       Size\n",
            "      59/99       5.2G    0.02179   0.005908          0          2        640: 100% 318/318 [01:38<00:00,  3.22it/s]\n",
            "                 Class     Images  Instances          P          R      mAP50   mAP50-95: 100% 46/46 [00:10<00:00,  4.37it/s]\n",
            "                   all        362        371      0.976      0.981       0.98      0.587\n",
            "\n",
            "      Epoch    GPU_mem   box_loss   obj_loss   cls_loss  Instances       Size\n",
            "      60/99       5.2G    0.02213   0.006005          0          1        640: 100% 318/318 [01:38<00:00,  3.22it/s]\n",
            "                 Class     Images  Instances          P          R      mAP50   mAP50-95: 100% 46/46 [00:10<00:00,  4.40it/s]\n",
            "                   all        362        371      0.987      0.986       0.99      0.599\n",
            "\n",
            "      Epoch    GPU_mem   box_loss   obj_loss   cls_loss  Instances       Size\n",
            "      61/99       5.2G     0.0216   0.006007          0          1        640: 100% 318/318 [01:38<00:00,  3.22it/s]\n",
            "                 Class     Images  Instances          P          R      mAP50   mAP50-95: 100% 46/46 [00:10<00:00,  4.45it/s]\n",
            "                   all        362        371      0.989      0.989      0.994      0.596\n",
            "\n",
            "      Epoch    GPU_mem   box_loss   obj_loss   cls_loss  Instances       Size\n",
            "      62/99       5.2G    0.02154   0.005862          0          3        640: 100% 318/318 [01:38<00:00,  3.24it/s]\n",
            "                 Class     Images  Instances          P          R      mAP50   mAP50-95: 100% 46/46 [00:10<00:00,  4.36it/s]\n",
            "                   all        362        371      0.986      0.983       0.99      0.595\n",
            "\n",
            "      Epoch    GPU_mem   box_loss   obj_loss   cls_loss  Instances       Size\n",
            "      63/99       5.2G    0.02113   0.005882          0          2        640: 100% 318/318 [01:38<00:00,  3.24it/s]\n",
            "                 Class     Images  Instances          P          R      mAP50   mAP50-95: 100% 46/46 [00:10<00:00,  4.42it/s]\n",
            "                   all        362        371      0.997      0.991      0.995      0.593\n",
            "\n",
            "      Epoch    GPU_mem   box_loss   obj_loss   cls_loss  Instances       Size\n",
            "      64/99       5.2G    0.02058   0.005705          0          1        640: 100% 318/318 [01:38<00:00,  3.24it/s]\n",
            "                 Class     Images  Instances          P          R      mAP50   mAP50-95: 100% 46/46 [00:10<00:00,  4.38it/s]\n",
            "                   all        362        371      0.994      0.989      0.994      0.603\n",
            "\n",
            "      Epoch    GPU_mem   box_loss   obj_loss   cls_loss  Instances       Size\n",
            "      65/99       5.2G    0.02118   0.005801          0          1        640: 100% 318/318 [01:38<00:00,  3.23it/s]\n",
            "                 Class     Images  Instances          P          R      mAP50   mAP50-95: 100% 46/46 [00:10<00:00,  4.32it/s]\n",
            "                   all        362        371      0.992      0.991      0.994      0.606\n",
            "\n",
            "      Epoch    GPU_mem   box_loss   obj_loss   cls_loss  Instances       Size\n",
            "      66/99       5.2G    0.02068   0.005752          0          0        640: 100% 318/318 [01:38<00:00,  3.24it/s]\n",
            "                 Class     Images  Instances          P          R      mAP50   mAP50-95: 100% 46/46 [00:10<00:00,  4.38it/s]\n",
            "                   all        362        371      0.992      0.992      0.994      0.604\n",
            "\n",
            "      Epoch    GPU_mem   box_loss   obj_loss   cls_loss  Instances       Size\n",
            "      67/99       5.2G    0.01967   0.005619          0          1        640: 100% 318/318 [01:38<00:00,  3.23it/s]\n",
            "                 Class     Images  Instances          P          R      mAP50   mAP50-95: 100% 46/46 [00:10<00:00,  4.27it/s]\n",
            "                   all        362        371      0.991      0.989      0.994      0.603\n",
            "\n",
            "      Epoch    GPU_mem   box_loss   obj_loss   cls_loss  Instances       Size\n",
            "      68/99       5.2G    0.01988   0.005668          0          1        640: 100% 318/318 [01:38<00:00,  3.24it/s]\n",
            "                 Class     Images  Instances          P          R      mAP50   mAP50-95: 100% 46/46 [00:10<00:00,  4.38it/s]\n",
            "                   all        362        371      0.992      0.992      0.993      0.603\n",
            "\n",
            "      Epoch    GPU_mem   box_loss   obj_loss   cls_loss  Instances       Size\n",
            "      69/99       5.2G    0.01946   0.005499          0          2        640: 100% 318/318 [01:38<00:00,  3.22it/s]\n",
            "                 Class     Images  Instances          P          R      mAP50   mAP50-95: 100% 46/46 [00:10<00:00,  4.32it/s]\n",
            "                   all        362        371      0.991      0.987      0.992      0.602\n",
            "\n",
            "      Epoch    GPU_mem   box_loss   obj_loss   cls_loss  Instances       Size\n",
            "      70/99       5.2G    0.01951     0.0057          0          1        640: 100% 318/318 [01:38<00:00,  3.22it/s]\n",
            "                 Class     Images  Instances          P          R      mAP50   mAP50-95: 100% 46/46 [00:10<00:00,  4.39it/s]\n",
            "                   all        362        371      0.989      0.989      0.993      0.605\n",
            "\n",
            "      Epoch    GPU_mem   box_loss   obj_loss   cls_loss  Instances       Size\n",
            "      71/99       5.2G    0.01939   0.005272          0          1        640: 100% 318/318 [01:38<00:00,  3.24it/s]\n",
            "                 Class     Images  Instances          P          R      mAP50   mAP50-95: 100% 46/46 [00:10<00:00,  4.27it/s]\n",
            "                   all        362        371      0.989      0.987      0.991        0.6\n",
            "\n",
            "      Epoch    GPU_mem   box_loss   obj_loss   cls_loss  Instances       Size\n",
            "      72/99       5.2G    0.01911   0.005588          0          1        640: 100% 318/318 [01:38<00:00,  3.22it/s]\n",
            "                 Class     Images  Instances          P          R      mAP50   mAP50-95: 100% 46/46 [00:10<00:00,  4.38it/s]\n",
            "                   all        362        371      0.995      0.992      0.994      0.603\n",
            "\n",
            "      Epoch    GPU_mem   box_loss   obj_loss   cls_loss  Instances       Size\n",
            "      73/99       5.2G    0.01854   0.005221          0          0        640: 100% 318/318 [01:37<00:00,  3.25it/s]\n",
            "                 Class     Images  Instances          P          R      mAP50   mAP50-95: 100% 46/46 [00:10<00:00,  4.28it/s]\n",
            "                   all        362        371      0.988      0.987      0.991      0.602\n",
            "\n",
            "      Epoch    GPU_mem   box_loss   obj_loss   cls_loss  Instances       Size\n",
            "      74/99       5.2G    0.01885   0.005536          0          3        640: 100% 318/318 [01:38<00:00,  3.22it/s]\n",
            "                 Class     Images  Instances          P          R      mAP50   mAP50-95: 100% 46/46 [00:10<00:00,  4.40it/s]\n",
            "                   all        362        371      0.994      0.989      0.993      0.604\n",
            "\n",
            "      Epoch    GPU_mem   box_loss   obj_loss   cls_loss  Instances       Size\n",
            "      75/99       5.2G    0.01841   0.005154          0          1        640: 100% 318/318 [01:38<00:00,  3.24it/s]\n",
            "                 Class     Images  Instances          P          R      mAP50   mAP50-95: 100% 46/46 [00:10<00:00,  4.24it/s]\n",
            "                   all        362        371      0.989      0.984      0.989      0.595\n",
            "\n",
            "      Epoch    GPU_mem   box_loss   obj_loss   cls_loss  Instances       Size\n",
            "      76/99       5.2G     0.0188    0.00513          0          1        640: 100% 318/318 [01:38<00:00,  3.23it/s]\n",
            "                 Class     Images  Instances          P          R      mAP50   mAP50-95: 100% 46/46 [00:10<00:00,  4.37it/s]\n",
            "                   all        362        371      0.986      0.984       0.99      0.596\n",
            "\n",
            "      Epoch    GPU_mem   box_loss   obj_loss   cls_loss  Instances       Size\n",
            "      77/99       5.2G    0.01866    0.00543          0          2        640: 100% 318/318 [01:38<00:00,  3.23it/s]\n",
            "                 Class     Images  Instances          P          R      mAP50   mAP50-95: 100% 46/46 [00:10<00:00,  4.27it/s]\n",
            "                   all        362        371      0.989      0.983      0.989      0.606\n",
            "\n",
            "      Epoch    GPU_mem   box_loss   obj_loss   cls_loss  Instances       Size\n",
            "      78/99       5.2G    0.01766   0.005147          0          1        640: 100% 318/318 [01:38<00:00,  3.23it/s]\n",
            "                 Class     Images  Instances          P          R      mAP50   mAP50-95: 100% 46/46 [00:10<00:00,  4.39it/s]\n",
            "                   all        362        371      0.991      0.987       0.99      0.598\n",
            "\n",
            "      Epoch    GPU_mem   box_loss   obj_loss   cls_loss  Instances       Size\n",
            "      79/99       5.2G    0.01743   0.005057          0          1        640: 100% 318/318 [01:38<00:00,  3.23it/s]\n",
            "                 Class     Images  Instances          P          R      mAP50   mAP50-95: 100% 46/46 [00:10<00:00,  4.37it/s]\n",
            "                   all        362        371      0.991      0.989      0.991      0.604\n",
            "\n",
            "      Epoch    GPU_mem   box_loss   obj_loss   cls_loss  Instances       Size\n",
            "      80/99       5.2G    0.01717    0.00508          0          1        640: 100% 318/318 [01:38<00:00,  3.23it/s]\n",
            "                 Class     Images  Instances          P          R      mAP50   mAP50-95: 100% 46/46 [00:10<00:00,  4.37it/s]\n",
            "                   all        362        371      0.991      0.987       0.99      0.602\n",
            "\n",
            "      Epoch    GPU_mem   box_loss   obj_loss   cls_loss  Instances       Size\n",
            "      81/99       5.2G    0.01719   0.005052          0          1        640: 100% 318/318 [01:38<00:00,  3.22it/s]\n",
            "                 Class     Images  Instances          P          R      mAP50   mAP50-95: 100% 46/46 [00:10<00:00,  4.36it/s]\n",
            "                   all        362        371      0.994      0.989      0.991      0.594\n",
            "\n",
            "      Epoch    GPU_mem   box_loss   obj_loss   cls_loss  Instances       Size\n",
            "      82/99       5.2G     0.0168   0.005259          0          2        640: 100% 318/318 [01:38<00:00,  3.22it/s]\n",
            "                 Class     Images  Instances          P          R      mAP50   mAP50-95: 100% 46/46 [00:10<00:00,  4.31it/s]\n",
            "                   all        362        371      0.991      0.987      0.991      0.606\n",
            "\n",
            "      Epoch    GPU_mem   box_loss   obj_loss   cls_loss  Instances       Size\n",
            "      83/99       5.2G    0.01681   0.004985          0          2        640: 100% 318/318 [01:38<00:00,  3.21it/s]\n",
            "                 Class     Images  Instances          P          R      mAP50   mAP50-95: 100% 46/46 [00:10<00:00,  4.37it/s]\n",
            "                   all        362        371      0.986      0.987      0.988      0.602\n",
            "\n",
            "      Epoch    GPU_mem   box_loss   obj_loss   cls_loss  Instances       Size\n",
            "      84/99       5.2G    0.01624   0.004954          0          2        640: 100% 318/318 [01:38<00:00,  3.23it/s]\n",
            "                 Class     Images  Instances          P          R      mAP50   mAP50-95: 100% 46/46 [00:10<00:00,  4.25it/s]\n",
            "                   all        362        371      0.986      0.987      0.991      0.604\n",
            "\n",
            "      Epoch    GPU_mem   box_loss   obj_loss   cls_loss  Instances       Size\n",
            "      85/99       5.2G    0.01687   0.004985          0          1        640: 100% 318/318 [01:39<00:00,  3.21it/s]\n",
            "                 Class     Images  Instances          P          R      mAP50   mAP50-95: 100% 46/46 [00:10<00:00,  4.40it/s]\n",
            "                   all        362        371      0.984      0.984      0.985        0.6\n",
            "\n",
            "      Epoch    GPU_mem   box_loss   obj_loss   cls_loss  Instances       Size\n",
            "      86/99       5.2G    0.01606   0.004664          0          1        640: 100% 318/318 [01:38<00:00,  3.22it/s]\n",
            "                 Class     Images  Instances          P          R      mAP50   mAP50-95: 100% 46/46 [00:10<00:00,  4.37it/s]\n",
            "                   all        362        371      0.986      0.987      0.991      0.605\n",
            "\n",
            "      Epoch    GPU_mem   box_loss   obj_loss   cls_loss  Instances       Size\n",
            "      87/99       5.2G    0.01608   0.004829          0          2        640: 100% 318/318 [01:39<00:00,  3.20it/s]\n",
            "                 Class     Images  Instances          P          R      mAP50   mAP50-95: 100% 46/46 [00:10<00:00,  4.37it/s]\n",
            "                   all        362        371       0.99      0.989      0.993      0.611\n",
            "\n",
            "      Epoch    GPU_mem   box_loss   obj_loss   cls_loss  Instances       Size\n",
            "      88/99       5.2G    0.01587   0.004923          0          1        640: 100% 318/318 [01:38<00:00,  3.24it/s]\n",
            "                 Class     Images  Instances          P          R      mAP50   mAP50-95: 100% 46/46 [00:10<00:00,  4.39it/s]\n",
            "                   all        362        371       0.99      0.989      0.992       0.61\n",
            "\n",
            "      Epoch    GPU_mem   box_loss   obj_loss   cls_loss  Instances       Size\n",
            "      89/99       5.2G    0.01592   0.005029          0          3        640: 100% 318/318 [01:38<00:00,  3.23it/s]\n",
            "                 Class     Images  Instances          P          R      mAP50   mAP50-95: 100% 46/46 [00:10<00:00,  4.26it/s]\n",
            "                   all        362        371      0.991      0.989      0.991      0.606\n",
            "\n",
            "      Epoch    GPU_mem   box_loss   obj_loss   cls_loss  Instances       Size\n",
            "      90/99       5.2G    0.01559   0.004715          0          2        640: 100% 318/318 [01:38<00:00,  3.23it/s]\n",
            "                 Class     Images  Instances          P          R      mAP50   mAP50-95: 100% 46/46 [00:10<00:00,  4.38it/s]\n",
            "                   all        362        371      0.989      0.989      0.993      0.609\n",
            "\n",
            "      Epoch    GPU_mem   box_loss   obj_loss   cls_loss  Instances       Size\n",
            "      91/99       5.2G    0.01477   0.004657          0          1        640: 100% 318/318 [01:37<00:00,  3.24it/s]\n",
            "                 Class     Images  Instances          P          R      mAP50   mAP50-95: 100% 46/46 [00:10<00:00,  4.43it/s]\n",
            "                   all        362        371      0.992      0.989      0.992      0.607\n",
            "\n",
            "      Epoch    GPU_mem   box_loss   obj_loss   cls_loss  Instances       Size\n",
            "      92/99       5.2G    0.01505   0.004594          0          1        640: 100% 318/318 [01:38<00:00,  3.24it/s]\n",
            "                 Class     Images  Instances          P          R      mAP50   mAP50-95: 100% 46/46 [00:10<00:00,  4.27it/s]\n",
            "                   all        362        371      0.989      0.989      0.993      0.607\n",
            "\n",
            "      Epoch    GPU_mem   box_loss   obj_loss   cls_loss  Instances       Size\n",
            "      93/99       5.2G    0.01493   0.004818          0          2        640: 100% 318/318 [01:38<00:00,  3.24it/s]\n",
            "                 Class     Images  Instances          P          R      mAP50   mAP50-95: 100% 46/46 [00:10<00:00,  4.40it/s]\n",
            "                   all        362        371      0.992      0.986      0.991      0.609\n",
            "\n",
            "      Epoch    GPU_mem   box_loss   obj_loss   cls_loss  Instances       Size\n",
            "      94/99       5.2G    0.01483   0.004731          0          2        640: 100% 318/318 [01:38<00:00,  3.23it/s]\n",
            "                 Class     Images  Instances          P          R      mAP50   mAP50-95: 100% 46/46 [00:10<00:00,  4.40it/s]\n",
            "                   all        362        371      0.986      0.987      0.991      0.612\n",
            "\n",
            "      Epoch    GPU_mem   box_loss   obj_loss   cls_loss  Instances       Size\n",
            "      95/99       5.2G    0.01422   0.004589          0          2        640: 100% 318/318 [01:38<00:00,  3.24it/s]\n",
            "                 Class     Images  Instances          P          R      mAP50   mAP50-95: 100% 46/46 [00:10<00:00,  4.43it/s]\n",
            "                   all        362        371      0.989      0.989      0.993      0.611\n",
            "\n",
            "      Epoch    GPU_mem   box_loss   obj_loss   cls_loss  Instances       Size\n",
            "      96/99       5.2G    0.01417   0.004491          0          1        640: 100% 318/318 [01:38<00:00,  3.24it/s]\n",
            "                 Class     Images  Instances          P          R      mAP50   mAP50-95: 100% 46/46 [00:10<00:00,  4.37it/s]\n",
            "                   all        362        371      0.989      0.987      0.991      0.611\n",
            "\n",
            "      Epoch    GPU_mem   box_loss   obj_loss   cls_loss  Instances       Size\n",
            "      97/99       5.2G    0.01397   0.004379          0          2        640: 100% 318/318 [01:38<00:00,  3.22it/s]\n",
            "                 Class     Images  Instances          P          R      mAP50   mAP50-95: 100% 46/46 [00:10<00:00,  4.48it/s]\n",
            "                   all        362        371       0.99      0.987      0.991      0.614\n",
            "\n",
            "      Epoch    GPU_mem   box_loss   obj_loss   cls_loss  Instances       Size\n",
            "      98/99       5.2G    0.01386   0.004532          0          1        640: 100% 318/318 [01:37<00:00,  3.26it/s]\n",
            "                 Class     Images  Instances          P          R      mAP50   mAP50-95: 100% 46/46 [00:10<00:00,  4.39it/s]\n",
            "                   all        362        371      0.989      0.987      0.991      0.612\n",
            "\n",
            "      Epoch    GPU_mem   box_loss   obj_loss   cls_loss  Instances       Size\n",
            "      99/99       5.2G    0.01382   0.004585          0          1        640: 100% 318/318 [01:38<00:00,  3.23it/s]\n",
            "                 Class     Images  Instances          P          R      mAP50   mAP50-95: 100% 46/46 [00:10<00:00,  4.36it/s]\n",
            "                   all        362        371      0.988      0.987      0.991      0.615\n",
            "\n",
            "100 epochs completed in 3.128 hours.\n",
            "Optimizer stripped from runs/train/exp/weights/last.pt, 173.1MB\n",
            "Optimizer stripped from runs/train/exp/weights/best.pt, 173.1MB\n",
            "\n",
            "Validating runs/train/exp/weights/best.pt...\n",
            "Fusing layers... \n",
            "Model summary: 322 layers, 86173414 parameters, 0 gradients, 203.8 GFLOPs\n",
            "                 Class     Images  Instances          P          R      mAP50   mAP50-95: 100% 46/46 [00:11<00:00,  3.96it/s]\n",
            "                   all        362        371      0.988      0.987      0.991      0.614\n",
            "Results saved to \u001b[1mruns/train/exp\u001b[0m\n"
          ]
        }
      ]
    },
    {
      "cell_type": "markdown",
      "metadata": {
        "id": "AcIRLQOlA14A"
      },
      "source": [
        "# Evaluate Custom YOLOv5 Detector Performance\n",
        "Training losses and performance metrics are saved to Tensorboard and also to a logfile.\n",
        "\n",
        "If you are new to these metrics, the one you want to focus on is `mAP_0.5` - learn more about mean average precision [here](https://blog.roboflow.com/mean-average-precision/)."
      ]
    },
    {
      "cell_type": "code",
      "metadata": {
        "id": "1jS9_BxdBBHL",
        "colab": {
          "base_uri": "https://localhost:8080/",
          "height": 874
        },
        "outputId": "507c8a07-0076-45e3-a04c-c2daa68c6b37"
      },
      "source": [
        "# Start tensorboard\n",
        "# Launch after you have started training\n",
        "# logs save in the folder \"runs\"\n",
        "%load_ext tensorboard\n",
        "%tensorboard --logdir runs"
      ],
      "execution_count": 8,
      "outputs": [
        {
          "output_type": "stream",
          "name": "stdout",
          "text": [
            "The tensorboard extension is already loaded. To reload it, use:\n",
            "  %reload_ext tensorboard\n"
          ]
        },
        {
          "output_type": "display_data",
          "data": {
            "text/plain": [
              "Reusing TensorBoard on port 6006 (pid 49024), started 0:07:15 ago. (Use '!kill 49024' to kill it.)"
            ]
          },
          "metadata": {}
        },
        {
          "output_type": "display_data",
          "data": {
            "text/plain": [
              "<IPython.core.display.Javascript object>"
            ],
            "application/javascript": [
              "\n",
              "        (async () => {\n",
              "            const url = new URL(await google.colab.kernel.proxyPort(6006, {'cache': true}));\n",
              "            url.searchParams.set('tensorboardColab', 'true');\n",
              "            const iframe = document.createElement('iframe');\n",
              "            iframe.src = url;\n",
              "            iframe.setAttribute('width', '100%');\n",
              "            iframe.setAttribute('height', '800');\n",
              "            iframe.setAttribute('frameborder', 0);\n",
              "            document.body.appendChild(iframe);\n",
              "        })();\n",
              "    "
            ]
          },
          "metadata": {}
        }
      ]
    },
    {
      "cell_type": "markdown",
      "metadata": {
        "id": "jtmS7_TXFsT3"
      },
      "source": [
        "#Run Inference  With Trained Weights\n",
        "Run inference with a pretrained checkpoint on contents of `test/images` folder downloaded from Roboflow."
      ]
    },
    {
      "cell_type": "code",
      "metadata": {
        "id": "TWjjiBcic3Vz",
        "colab": {
          "base_uri": "https://localhost:8080/"
        },
        "outputId": "2b9e5332-9132-4503-9509-8b246a55239d"
      },
      "source": [
        "!python detect.py --weights runs/train/exp/weights/best.pt --img 416 --conf 0.1 --source {dataset.location}/test/images"
      ],
      "execution_count": 10,
      "outputs": [
        {
          "output_type": "stream",
          "name": "stdout",
          "text": [
            "\u001b[34m\u001b[1mdetect: \u001b[0mweights=['runs/train/exp/weights/best.pt'], source={dataset.location}/test/images, data=data/coco128.yaml, imgsz=[416, 416], conf_thres=0.1, iou_thres=0.45, max_det=1000, device=, view_img=False, save_txt=False, save_conf=False, save_crop=False, nosave=False, classes=None, agnostic_nms=False, augment=False, visualize=False, update=False, project=runs/detect, name=exp, exist_ok=False, line_thickness=3, hide_labels=False, hide_conf=False, half=False, dnn=False, vid_stride=1\n",
            "YOLOv5 🚀 v7.0-120-g3e55763 Python-3.9.16 torch-1.13.1+cu116 CUDA:0 (Tesla T4, 15102MiB)\n",
            "\n",
            "Fusing layers... \n",
            "Model summary: 322 layers, 86173414 parameters, 0 gradients, 203.8 GFLOPs\n",
            "Traceback (most recent call last):\n",
            "  File \"/content/yolov5/yolov5/detect.py\", line 261, in <module>\n",
            "    main(opt)\n",
            "  File \"/content/yolov5/yolov5/detect.py\", line 256, in main\n",
            "    run(**vars(opt))\n",
            "  File \"/usr/local/lib/python3.9/dist-packages/torch/autograd/grad_mode.py\", line 27, in decorate_context\n",
            "    return func(*args, **kwargs)\n",
            "  File \"/content/yolov5/yolov5/detect.py\", line 111, in run\n",
            "    dataset = LoadImages(source, img_size=imgsz, stride=stride, auto=pt, vid_stride=vid_stride)\n",
            "  File \"/content/yolov5/yolov5/utils/dataloaders.py\", line 254, in __init__\n",
            "    raise FileNotFoundError(f'{p} does not exist')\n",
            "FileNotFoundError: /content/yolov5/yolov5/{dataset.location}/test/images does not exist\n"
          ]
        }
      ]
    },
    {
      "cell_type": "code",
      "metadata": {
        "id": "ZbUn4_b9GCKO"
      },
      "source": [
        "#display inference on ALL test images\n",
        "\n",
        "import glob\n",
        "from IPython.display import Image, display\n",
        "\n",
        "for imageName in glob.glob('/content/yolov5/runs/detect/exp/*.jpg'): #assuming JPG\n",
        "    display(Image(filename=imageName))\n",
        "    print(\"\\n\")"
      ],
      "execution_count": 11,
      "outputs": []
    },
    {
      "cell_type": "code",
      "source": [
        "from google.colab import drive\n",
        "drive.mount('/content/drive')"
      ],
      "metadata": {
        "colab": {
          "base_uri": "https://localhost:8080/"
        },
        "id": "2Jvr76Vf1eZ0",
        "outputId": "c6704fb0-f8ab-44f1-fbd7-b3995d3c146e"
      },
      "execution_count": 12,
      "outputs": [
        {
          "output_type": "stream",
          "name": "stdout",
          "text": [
            "Mounted at /content/drive\n"
          ]
        }
      ]
    },
    {
      "cell_type": "markdown",
      "metadata": {
        "id": "g8dHcni6CJYt"
      },
      "source": [
        "# Conclusion and Next Steps\n",
        "\n",
        "Congratulations! You've trained a custom YOLOv5 model to recognize your custom objects.\n",
        "\n",
        "To improve you model's performance, we recommend first interating on your datasets coverage and quality. See this guide for [model performance improvement](https://github.com/ultralytics/yolov5/wiki/Tips-for-Best-Training-Results).\n",
        "\n",
        "To deploy your model to an application, see this guide on [exporting your model to deployment destinations](https://github.com/ultralytics/yolov5/issues/251).\n",
        "\n",
        "Once your model is in production, you will want to continually iterate and improve on your dataset and model via [active learning](https://blog.roboflow.com/what-is-active-learning/)."
      ]
    },
    {
      "cell_type": "code",
      "metadata": {
        "colab": {
          "base_uri": "https://localhost:8080/",
          "height": 17
        },
        "id": "7iiObB2WCMh6",
        "outputId": "b8165d3d-097d-40b2-8e62-6e78f8953905"
      },
      "source": [
        "#export your model's weights for future use\n",
        "from google.colab import files\n",
        "files.download('./runs/train/exp/weights/best.pt')"
      ],
      "execution_count": 7,
      "outputs": [
        {
          "output_type": "display_data",
          "data": {
            "text/plain": [
              "<IPython.core.display.Javascript object>"
            ],
            "application/javascript": [
              "\n",
              "    async function download(id, filename, size) {\n",
              "      if (!google.colab.kernel.accessAllowed) {\n",
              "        return;\n",
              "      }\n",
              "      const div = document.createElement('div');\n",
              "      const label = document.createElement('label');\n",
              "      label.textContent = `Downloading \"${filename}\": `;\n",
              "      div.appendChild(label);\n",
              "      const progress = document.createElement('progress');\n",
              "      progress.max = size;\n",
              "      div.appendChild(progress);\n",
              "      document.body.appendChild(div);\n",
              "\n",
              "      const buffers = [];\n",
              "      let downloaded = 0;\n",
              "\n",
              "      const channel = await google.colab.kernel.comms.open(id);\n",
              "      // Send a message to notify the kernel that we're ready.\n",
              "      channel.send({})\n",
              "\n",
              "      for await (const message of channel.messages) {\n",
              "        // Send a message to notify the kernel that we're ready.\n",
              "        channel.send({})\n",
              "        if (message.buffers) {\n",
              "          for (const buffer of message.buffers) {\n",
              "            buffers.push(buffer);\n",
              "            downloaded += buffer.byteLength;\n",
              "            progress.value = downloaded;\n",
              "          }\n",
              "        }\n",
              "      }\n",
              "      const blob = new Blob(buffers, {type: 'application/binary'});\n",
              "      const a = document.createElement('a');\n",
              "      a.href = window.URL.createObjectURL(blob);\n",
              "      a.download = filename;\n",
              "      div.appendChild(a);\n",
              "      a.click();\n",
              "      div.remove();\n",
              "    }\n",
              "  "
            ]
          },
          "metadata": {}
        },
        {
          "output_type": "display_data",
          "data": {
            "text/plain": [
              "<IPython.core.display.Javascript object>"
            ],
            "application/javascript": [
              "download(\"download_c5c67b48-68fe-4d62-a8e8-71b8aad71603\", \"best.pt\", 173095553)"
            ]
          },
          "metadata": {}
        }
      ]
    },
    {
      "cell_type": "code",
      "metadata": {
        "id": "rNn-obvOGITm"
      },
      "source": [],
      "execution_count": null,
      "outputs": []
    }
  ]
}